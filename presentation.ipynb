{
 "cells": [
  {
   "cell_type": "markdown",
   "id": "67912436",
   "metadata": {
    "slideshow": {
     "slide_type": "slide"
    }
   },
   "source": [
    "# FlowGenius: analisi dei flussi EMUR 🧑‍⚕️🩺"
   ]
  },
  {
   "cell_type": "markdown",
   "id": "0beae847",
   "metadata": {
    "slideshow": {
     "slide_type": "fragment"
    }
   },
   "source": [
    "<p style=\"font-size:18px;\">Il flusso EMUR è un insieme di dati utilizzati per descrivere il percorso e la gestione dei pazienti che arrivano al pronto soccorso.</p>"
   ]
  },
  {
   "cell_type": "markdown",
   "id": "83739436",
   "metadata": {
    "slideshow": {
     "slide_type": "slide"
    }
   },
   "source": [
    "# Le informazioni"
   ]
  },
  {
   "cell_type": "markdown",
   "id": "cc0986e0",
   "metadata": {
    "slideshow": {
     "slide_type": "fragment"
    }
   },
   "source": [
    "![alt](./img/record.png)"
   ]
  },
  {
   "cell_type": "markdown",
   "id": "775e7771",
   "metadata": {
    "slideshow": {
     "slide_type": "subslide"
    }
   },
   "source": [
    "![alt](./img/poca_organizzazione.png)"
   ]
  },
  {
   "cell_type": "markdown",
   "id": "70526828",
   "metadata": {
    "slideshow": {
     "slide_type": "slide"
    }
   },
   "source": [
    "# FlowGenius \n",
    "\n",
    "<p style=\"font-size:18px;\">\n",
    "\n",
    "FlowGenius è un software progettato per fornire ai dipendenti ospedalieri e ai gestori della struttura informazioni cruciali sui pazienti in modo chiaro e immediato. Grazie all'utilizzo di modelli di machine learning, FlowGenius non solo anticipa i principali problemi dei pazienti, ma risolve anche le sfide organizzative dell'ospedale.\n",
    "\n",
    "Con la sua capacità di prevedere le necessità future, il software ottimizza il flusso di lavoro e migliora l'efficienza operativa, garantendo un servizio sanitario di alta qualità.</p>"
   ]
  },
  {
   "cell_type": "markdown",
   "id": "73c613cf",
   "metadata": {
    "slideshow": {
     "slide_type": "slide"
    }
   },
   "source": [
    "# Dritti al punto 📍"
   ]
  },
  {
   "cell_type": "markdown",
   "id": "1569f0f3",
   "metadata": {
    "slideshow": {
     "slide_type": "subslide"
    }
   },
   "source": [
    "### Serie temporali 🕒\n",
    "\n",
    "![g](./img/g1.png)"
   ]
  },
  {
   "cell_type": "markdown",
   "id": "224c65f0",
   "metadata": {
    "slideshow": {
     "slide_type": "subslide"
    }
   },
   "source": [
    "### Focus sulle date 👀\n",
    "\n",
    "![g](./img/g6.png)"
   ]
  },
  {
   "cell_type": "markdown",
   "id": "41141da2",
   "metadata": {
    "slideshow": {
     "slide_type": "subslide"
    }
   },
   "source": [
    "### Confronta le serie 🤔\n",
    "\n",
    "![g](./img/g2.png)"
   ]
  },
  {
   "cell_type": "markdown",
   "id": "fa14800f",
   "metadata": {
    "slideshow": {
     "slide_type": "subslide"
    }
   },
   "source": [
    "### Deduci facilmente 💡\n",
    "\n",
    "![g](./img/g3.png)"
   ]
  },
  {
   "cell_type": "markdown",
   "id": "cb55c33b",
   "metadata": {
    "slideshow": {
     "slide_type": "subslide"
    }
   },
   "source": [
    "### Scopri fatti interessanti 🙂‍↔️\n",
    "\n",
    "![g](./img/g4.png)"
   ]
  },
  {
   "cell_type": "markdown",
   "id": "f65e9a36",
   "metadata": {
    "slideshow": {
     "slide_type": "subslide"
    }
   },
   "source": [
    "### Investi con criterio 🫰💰\n",
    "\n",
    "![g](./img/g5.png)"
   ]
  },
  {
   "cell_type": "markdown",
   "id": "52ea6dba",
   "metadata": {
    "slideshow": {
     "slide_type": "slide"
    }
   },
   "source": [
    "# Pro del sistema 🖥️\n",
    "\n",
    "- **Previsione delle Necessità Future:**\n",
    "    - Riduzione dello Stress per il Personale\n",
    "    - Aumento della Soddisfazione dei Pazienti\n",
    "    - Riduzione dei Costi\n",
    "- **Flessibilità e Scalabilità:**\n",
    "    - Integrazione con Sistemi Esistenti\n",
    "    - Integrazione Analisi di altri Flussi\n",
    "    - Facilità nel creare nuovi grafici"
   ]
  },
  {
   "cell_type": "markdown",
   "id": "f43f4f64",
   "metadata": {
    "slideshow": {
     "slide_type": "subslide"
    }
   },
   "source": [
    "# Svantaggi del sistema\n",
    "\n",
    "![Alt text](./img/svantaggi_non_trovati.png)"
   ]
  },
  {
   "cell_type": "markdown",
   "id": "fee97cee",
   "metadata": {
    "slideshow": {
     "slide_type": "slide"
    }
   },
   "source": [
    "# Il cuore 🫀"
   ]
  },
  {
   "cell_type": "markdown",
   "id": "eacfac6c",
   "metadata": {
    "slideshow": {
     "slide_type": "subslide"
    }
   },
   "source": [
    "![Alt text](./img/architettura.jpeg)"
   ]
  },
  {
   "cell_type": "markdown",
   "id": "4d232fb4",
   "metadata": {
    "slideshow": {
     "slide_type": "slide"
    }
   },
   "source": [
    "# È la giusta scelta che fa la differenza  🐴  👉 🦄"
   ]
  },
  {
   "cell_type": "markdown",
   "id": "64dc13f4",
   "metadata": {
    "slideshow": {
     "slide_type": "subslide"
    }
   },
   "source": [
    "# È la giusta scelta che fa la differenza  🐴  👉 🦄\n",
    "\n",
    "- NodeJS:\n",
    "    - I/O non bloccante \n",
    "    - Gestisce bene le richieste multiple 📨"
   ]
  },
  {
   "cell_type": "markdown",
   "id": "855a77a3",
   "metadata": {
    "slideshow": {
     "slide_type": "subslide"
    }
   },
   "source": [
    "# È la giusta scelta che fa la differenza  🐴  👉 🦄\n",
    "\n",
    "- Fluentd:\n",
    "    - Semplice da scrivere \n",
    "    - Documentazione moderna\n",
    "    - Leggero come una piuma 🪶"
   ]
  },
  {
   "cell_type": "markdown",
   "id": "579c2872",
   "metadata": {
    "slideshow": {
     "slide_type": "subslide"
    }
   },
   "source": [
    "# È la giusta scelta che fa la differenza  🐴  👉 🦄\n",
    "\n",
    "- Kafka:\n",
    "    - Servizio di streaming super famoso 📸\n",
    "    - Open Source\n",
    "    - Scalabile\n",
    "    - KafkaUI"
   ]
  },
  {
   "cell_type": "markdown",
   "id": "5b20b03c",
   "metadata": {
    "slideshow": {
     "slide_type": "subslide"
    }
   },
   "source": [
    "# È la giusta scelta che fa la differenza  🐴  👉 🦄\n",
    "\n",
    "- Elasticsearch:\n",
    "    - Dannatamente veloce 🏎️💨\n",
    "    - Soluzione vincente non si cambia\n",
    "    - Integrato anche con assembly"
   ]
  },
  {
   "cell_type": "markdown",
   "id": "c90ff3a2",
   "metadata": {
    "slideshow": {
     "slide_type": "subslide"
    }
   },
   "source": [
    "# È la giusta scelta che fa la differenza  🐴  👉 🦄\n",
    "\n",
    "- Kibana:\n",
    "    - Elasticsearch 🤝 Kibana\n",
    "    - Grafici moderni ed intererattivi"
   ]
  },
  {
   "cell_type": "markdown",
   "id": "7e4cdbb2",
   "metadata": {
    "slideshow": {
     "slide_type": "subslide"
    }
   },
   "source": [
    "# È la giusta scelta che fa la differenza  🐴  👉 🦄\n",
    "\n",
    "- Docker:\n",
    "    - Isola ogni servizio \n",
    "    - Sicurezza alle stelle\n",
    "    - Versioni e sistema operativo non spaventano più"
   ]
  },
  {
   "cell_type": "markdown",
   "id": "0889b12a",
   "metadata": {
    "slideshow": {
     "slide_type": "slide"
    }
   },
   "source": [
    "# La mente 🧠"
   ]
  },
  {
   "cell_type": "markdown",
   "id": "ff50d56f",
   "metadata": {
    "slideshow": {
     "slide_type": "fragment"
    }
   },
   "source": [
    "Il modello usato è il PatchTimeSeries ed è stato addestrato con 3 anni di flussi EMUR dell'ospedale Papardo di Messina. "
   ]
  },
  {
   "cell_type": "markdown",
   "id": "0599b279",
   "metadata": {
    "slideshow": {
     "slide_type": "fragment"
    }
   },
   "source": [
    "\n",
    "![alt](./img/model_prediction.jpeg)"
   ]
  },
  {
   "cell_type": "markdown",
   "id": "384bd303",
   "metadata": {
    "slideshow": {
     "slide_type": "slide"
    }
   },
   "source": [
    "# Ringraziamenti ❤️\n",
    "\n",
    "Un grande grazie a tutti i miei colleghi per avermi supportato nei momenti in cui stavo per perdere la testa appresso a docker. Un ringraziamento speciale al professor Nicotra Salvo (Nics) per averci guidato attraverso tutte le nuove tecnologie con pazienza e disponibilità. E un grazie di cuore al professor Antonio Di Maria per aver fornito il flusso EMUR e per avermi aiutato a addestrare il modello."
   ]
  }
 ],
 "metadata": {
  "celltoolbar": "Slideshow",
  "kernelspec": {
   "display_name": "Python 3 (ipykernel)",
   "language": "python",
   "name": "python3"
  },
  "language_info": {
   "codemirror_mode": {
    "name": "ipython",
    "version": 3
   },
   "file_extension": ".py",
   "mimetype": "text/x-python",
   "name": "python",
   "nbconvert_exporter": "python",
   "pygments_lexer": "ipython3",
   "version": "3.11.6"
  }
 },
 "nbformat": 4,
 "nbformat_minor": 5
}
